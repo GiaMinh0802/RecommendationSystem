{
 "cells": [
  {
   "cell_type": "code",
   "execution_count": null,
   "metadata": {},
   "outputs": [],
   "source": [
    "import json\n",
    "\n",
    "with open('data/orders.json', 'r', encoding='utf-8') as file:\n",
    "    data = json.load(file)\n",
    "\n",
    "total_length = len(data)\n",
    "part_length = total_length // 4\n",
    "\n",
    "for i in range(4):\n",
    "    start_index = i * part_length\n",
    "    end_index = (i + 1) * part_length\n",
    "    part_data = data[start_index:end_index]\n",
    "\n",
    "    formatted_json = json.dumps(part_data, indent=4, sort_keys=False, ensure_ascii=False)\n",
    "    with open(f'data/orders_p{i+1}.json', 'w', encoding='utf-8') as file:\n",
    "        file.write(formatted_json)"
   ]
  }
 ],
 "metadata": {
  "kernelspec": {
   "display_name": "Python 3",
   "language": "python",
   "name": "python3"
  },
  "language_info": {
   "codemirror_mode": {
    "name": "ipython",
    "version": 3
   },
   "file_extension": ".py",
   "mimetype": "text/x-python",
   "name": "python",
   "nbconvert_exporter": "python",
   "pygments_lexer": "ipython3",
   "version": "3.11.5"
  }
 },
 "nbformat": 4,
 "nbformat_minor": 2
}
