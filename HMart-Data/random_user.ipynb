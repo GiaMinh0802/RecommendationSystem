{
 "cells": [
  {
   "cell_type": "code",
   "execution_count": null,
   "metadata": {},
   "outputs": [],
   "source": [
    "import json\n",
    "import bcrypt\n",
    "import random"
   ]
  },
  {
   "cell_type": "code",
   "execution_count": null,
   "metadata": {},
   "outputs": [],
   "source": [
    "def generate_password():\n",
    "    password = \"123\"\n",
    "    salt = bcrypt.gensalt(10)\n",
    "    hashed_bytes = bcrypt.hashpw(password.encode(), salt)\n",
    "    hashed_password = hashed_bytes.decode('utf-8')\n",
    "    return hashed_password"
   ]
  },
  {
   "cell_type": "code",
   "execution_count": null,
   "metadata": {},
   "outputs": [],
   "source": [
    "def create_user_info(user_id):\n",
    "    return {\n",
    "        \"firstname\": \"User\",\n",
    "        \"lastname\": f\"{user_id:04d}\",\n",
    "        \"email\": f\"user{user_id:04d}@gmail.com\",\n",
    "        \"mobile\": \"0\" + str(random.randint(111111111,999999999)),\n",
    "        \"password\": generate_password(),\n",
    "        \"role\": \"user\",\n",
    "        \"isBlocked\": False\n",
    "    }"
   ]
  },
  {
   "cell_type": "code",
   "execution_count": null,
   "metadata": {},
   "outputs": [],
   "source": [
    "users = [create_user_info(user_id) for user_id in range(1, 5001)]"
   ]
  },
  {
   "cell_type": "code",
   "execution_count": null,
   "metadata": {},
   "outputs": [],
   "source": [
    "formatted_json = json.dumps(users, indent=4, sort_keys=False, ensure_ascii=False)\n",
    "with open('data/users.json', 'w', encoding='utf-8') as file:\n",
    "    file.write(formatted_json)"
   ]
  }
 ],
 "metadata": {
  "language_info": {
   "name": "python"
  }
 },
 "nbformat": 4,
 "nbformat_minor": 2
}
